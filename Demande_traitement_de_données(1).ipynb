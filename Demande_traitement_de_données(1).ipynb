{
  "cells": [
    {
      "cell_type": "markdown",
      "source": [
        "<h1><center>  Analyse des dossiers passant de A01,A02 à A04 <h1><center> \n",
        "\n"
      ],
      "metadata": {
        "id": "BdwnGYnS4ad4"
      }
    },
    {
      "cell_type": "markdown",
      "source": [
        "## I. Import Librairies"
      ],
      "metadata": {
        "id": "H-a6OjjI41Ye"
      }
    },
    {
      "cell_type": "code",
      "source": [
        "pip install pandas"
      ],
      "metadata": {
        "id": "LapxasPLhF8n"
      },
      "execution_count": null,
      "outputs": []
    },
    {
      "cell_type": "code",
      "source": [
        "pip install openpyxl"
      ],
      "metadata": {
        "id": "ShAAGO1qhHEf"
      },
      "execution_count": null,
      "outputs": []
    },
    {
      "cell_type": "code",
      "execution_count": 1,
      "metadata": {
        "id": "rqKH_WRctcGc"
      },
      "outputs": [],
      "source": [
        "import pandas as pd\n",
        "import numpy as np\n",
        "from datetime import date"
      ]
    },
    {
      "cell_type": "code",
      "source": [
        "#pip install datetime"
      ],
      "metadata": {
        "id": "Tf8CQ4Qr47XZ"
      },
      "execution_count": null,
      "outputs": []
    },
    {
      "cell_type": "code",
      "execution_count": null,
      "metadata": {
        "id": "-HyN7UcQtg_3"
      },
      "outputs": [],
      "source": [
        "#f = pd.read_csv('/content/demande.csv',encoding='ISO-8859-1',sep=';')"
      ]
    },
    {
      "cell_type": "markdown",
      "source": [
        "# II. Import Data"
      ],
      "metadata": {
        "id": "whJx_QCW5JGi"
      }
    },
    {
      "cell_type": "code",
      "source": [
        "df = pd.read_excel('Classeur1.xlsx',sheet_name=0)"
      ],
      "metadata": {
        "id": "cvgMuuPgYm-F"
      },
      "execution_count": 2,
      "outputs": []
    },
    {
      "cell_type": "code",
      "source": [
        "df = df.loc[(df['Type acte']==\"A01\") | (df['Type acte'] == \"A04\"),:]"
      ],
      "metadata": {
        "id": "hADd5mKObOBw"
      },
      "execution_count": 3,
      "outputs": []
    },
    {
      "cell_type": "markdown",
      "source": [
        "#Dimension du jeu de données"
      ],
      "metadata": {
        "id": "5WJQwXwW5OSo"
      }
    },
    {
      "cell_type": "code",
      "source": [
        "df.shape"
      ],
      "metadata": {
        "colab": {
          "base_uri": "https://localhost:8080/"
        },
        "id": "dYlzjf8gYm5w",
        "outputId": "6727255d-c34d-4ab8-b5a7-650a5fd84bd7"
      },
      "execution_count": 4,
      "outputs": [
        {
          "output_type": "execute_result",
          "data": {
            "text/plain": [
              "(580, 109)"
            ]
          },
          "metadata": {},
          "execution_count": 4
        }
      ]
    },
    {
      "cell_type": "markdown",
      "source": [
        "# II. Code"
      ],
      "metadata": {
        "id": "FG1USYMb5V5_"
      }
    },
    {
      "cell_type": "code",
      "source": [
        ""
      ],
      "metadata": {
        "id": "14-RzoNG5SVF"
      },
      "execution_count": null,
      "outputs": []
    },
    {
      "cell_type": "code",
      "execution_count": null,
      "metadata": {
        "id": "IyCHdiIWjqjR"
      },
      "outputs": [],
      "source": [
        "df['Date acte'] = pd.to_datetime(df['Date acte'], format=\"%d/%m/%Y\")"
      ]
    },
    {
      "cell_type": "code",
      "execution_count": null,
      "metadata": {
        "id": "_PFjHcxniUBe"
      },
      "outputs": [],
      "source": [
        "df2 = df"
      ]
    },
    {
      "cell_type": "code",
      "execution_count": null,
      "metadata": {
        "id": "-kTVY1GRiSs-"
      },
      "outputs": [],
      "source": [
        "df3 = df2[df2.duplicated(subset=['Nom demandeur'], keep=False)]"
      ]
    },
    {
      "cell_type": "code",
      "source": [
        "df4 = (df3[['Nom demandeur','Type acte','Date acte','Prenom demandeur']])"
      ],
      "metadata": {
        "id": "bdAt1rdQGnz7"
      },
      "execution_count": null,
      "outputs": []
    },
    {
      "cell_type": "code",
      "execution_count": null,
      "metadata": {
        "id": "5Yp6QvCOpqQ0"
      },
      "outputs": [],
      "source": [
        "df6 = df4.sort_values(by = ['Nom demandeur', 'Type acte'])"
      ]
    },
    {
      "cell_type": "code",
      "source": [
        "df6"
      ],
      "metadata": {
        "id": "gFqtxQ5EHM2Q"
      },
      "execution_count": null,
      "outputs": []
    },
    {
      "cell_type": "code",
      "source": [
        "df6= df6.drop_duplicates(subset=['Nom demandeur','Type acte','Prenom demandeur'], keep='first')"
      ],
      "metadata": {
        "id": "lP7eS2lzU9wL"
      },
      "execution_count": null,
      "outputs": []
    },
    {
      "cell_type": "code",
      "source": [
        "df6"
      ],
      "metadata": {
        "id": "7vOVq2QqVQ0e"
      },
      "execution_count": null,
      "outputs": []
    },
    {
      "cell_type": "code",
      "execution_count": null,
      "metadata": {
        "id": "50ZrB0-6i-bX"
      },
      "outputs": [],
      "source": [
        "df6 = df6.reset_index(drop=True)"
      ]
    },
    {
      "cell_type": "code",
      "execution_count": null,
      "metadata": {
        "id": "F7h-OUKLychX"
      },
      "outputs": [],
      "source": [
        "#len(df3.loc[(df3['Type acte']==\"A01\") | (df3['Type acte'] == \"A02\"),:])"
      ]
    },
    {
      "cell_type": "code",
      "execution_count": null,
      "metadata": {
        "id": "F9JICH_u2Huo"
      },
      "outputs": [],
      "source": [
        "from datetime import date\n",
        " \n",
        "def numOfDays(date1, date2):\n",
        "    return (date2-date1).days\n",
        "     \n"
      ]
    },
    {
      "cell_type": "code",
      "execution_count": null,
      "metadata": {
        "id": "OqBth4nw-BSs"
      },
      "outputs": [],
      "source": [
        "def add_col_chauff_2012(dataset):\n",
        "    dataset[\"New_Duree_acte\"] = \"\"\n",
        "    for i in range(len(dataset)):\n",
        "        if dataset[\"Nom demandeur\"][i] == dataset[\"Nom demandeur\"].shift()[i] and dataset[\"Prenom demandeur\"][i] == dataset[\"Prenom demandeur\"].shift()[i]:\n",
        "          #print(numOfDays(dataset['Date acte'].shift()[i], dataset['Date acte'][i]))\n",
        "           dataset[\"New_Duree_acte\"][i] = numOfDays(dataset['Date acte'].shift()[i], dataset['Date acte'][i])"
      ]
    },
    {
      "cell_type": "code",
      "execution_count": null,
      "metadata": {
        "colab": {
          "base_uri": "https://localhost:8080/"
        },
        "id": "vLB6BX985XYS",
        "outputId": "32d9c948-3a35-4b51-fb68-b8a7a639f2b6"
      },
      "outputs": [
        {
          "output_type": "stream",
          "name": "stderr",
          "text": [
            "/usr/local/lib/python3.7/dist-packages/ipykernel_launcher.py:6: SettingWithCopyWarning: \n",
            "A value is trying to be set on a copy of a slice from a DataFrame\n",
            "\n",
            "See the caveats in the documentation: https://pandas.pydata.org/pandas-docs/stable/user_guide/indexing.html#returning-a-view-versus-a-copy\n",
            "  \n"
          ]
        }
      ],
      "source": [
        "add_col_chauff_2012(df6)"
      ]
    },
    {
      "cell_type": "code",
      "execution_count": null,
      "metadata": {
        "id": "yFXpmS8KuJtY"
      },
      "outputs": [],
      "source": [
        "df6"
      ]
    },
    {
      "cell_type": "code",
      "source": [
        "df10 = (df6.loc[df6['Type acte']==\"A01\",:])"
      ],
      "metadata": {
        "id": "BGJB5OY2g3_A"
      },
      "execution_count": null,
      "outputs": []
    },
    {
      "cell_type": "code",
      "source": [
        "df10"
      ],
      "metadata": {
        "id": "HgbgNkmsiQGC"
      },
      "execution_count": null,
      "outputs": []
    },
    {
      "cell_type": "code",
      "source": [
        "df11 = (df6.loc[df6['Type acte']==\"A04\",:])"
      ],
      "metadata": {
        "id": "qmPcDkWqhro4"
      },
      "execution_count": null,
      "outputs": []
    },
    {
      "cell_type": "code",
      "source": [
        "df20 = pd.merge(df10,df11, how=\"inner\", on=[\"Nom demandeur\", \"Prenom demandeur\"])"
      ],
      "metadata": {
        "id": "fCgPYR-2sMn2"
      },
      "execution_count": null,
      "outputs": []
    },
    {
      "cell_type": "code",
      "source": [
        "df20"
      ],
      "metadata": {
        "id": "Bt_XhoSApZio"
      },
      "execution_count": null,
      "outputs": []
    },
    {
      "cell_type": "code",
      "source": [
        "df = pd.read_excel('Classeur1.xlsx',sheet_name=0)"
      ],
      "metadata": {
        "id": "ff-HP_slpxjB"
      },
      "execution_count": null,
      "outputs": []
    },
    {
      "cell_type": "code",
      "source": [
        "df12 = df.loc[(df['Type acte']==\"A02\"),:]"
      ],
      "metadata": {
        "id": "B9tIgNnKlOxx"
      },
      "execution_count": null,
      "outputs": []
    },
    {
      "cell_type": "code",
      "source": [
        "df12.shape"
      ],
      "metadata": {
        "colab": {
          "base_uri": "https://localhost:8080/"
        },
        "id": "o6nnwerJlOu9",
        "outputId": "24efc004-d88d-4814-ca25-ac3dfc486e69"
      },
      "execution_count": null,
      "outputs": [
        {
          "output_type": "execute_result",
          "data": {
            "text/plain": [
              "(259, 109)"
            ]
          },
          "metadata": {},
          "execution_count": 213
        }
      ]
    },
    {
      "cell_type": "code",
      "source": [
        "df12 = (df12[['Nom demandeur','Type acte','Date acte','Prenom demandeur']])"
      ],
      "metadata": {
        "id": "qij-2gYolOr4"
      },
      "execution_count": null,
      "outputs": []
    },
    {
      "cell_type": "code",
      "source": [
        "#df13 = df10.merge(df12, left_on='Nom demandeur', right_on='Nom demandeur')\n"
      ],
      "metadata": {
        "id": "R-p7-0eXlOpo"
      },
      "execution_count": null,
      "outputs": []
    },
    {
      "cell_type": "code",
      "source": [
        "df21 = pd.merge(df20,df12, how=\"inner\", on=[\"Nom demandeur\", \"Prenom demandeur\"])"
      ],
      "metadata": {
        "id": "LXIoKDiRux00"
      },
      "execution_count": null,
      "outputs": []
    },
    {
      "cell_type": "code",
      "source": [
        "df21"
      ],
      "metadata": {
        "id": "MqYe2ejplqK5"
      },
      "execution_count": null,
      "outputs": []
    },
    {
      "cell_type": "code",
      "source": [
        "ds = []\n",
        "for i in range(len(df21)):\n",
        "  \n",
        "  a = numOfDays(df21['Date acte'][i], df21['Date acte_y'][i])\n",
        "  ds.append(a)\n",
        "df21['Conso_ELS_mens_2012'] = ds"
      ],
      "metadata": {
        "id": "iysqY3VKw00E"
      },
      "execution_count": null,
      "outputs": []
    },
    {
      "cell_type": "code",
      "source": [
        "df21"
      ],
      "metadata": {
        "id": "B2cGzLgqlqGU"
      },
      "execution_count": null,
      "outputs": []
    },
    {
      "cell_type": "code",
      "source": [
        "df20.to_excel(r'resultat.xlsx', index = False) "
      ],
      "metadata": {
        "id": "4qkSJWus3x5r"
      },
      "execution_count": null,
      "outputs": []
    },
    {
      "cell_type": "code",
      "source": [
        "df21.to_excel(r'resultat1.xlsx', index = False) "
      ],
      "metadata": {
        "id": "teyA7_o0lqCY"
      },
      "execution_count": null,
      "outputs": []
    },
    {
      "cell_type": "code",
      "execution_count": null,
      "metadata": {
        "id": "qw66CiAsye6z"
      },
      "outputs": [],
      "source": [
        "#df = df9"
      ]
    },
    {
      "cell_type": "code",
      "source": [
        ""
      ],
      "metadata": {
        "id": "SQwBi10Bd6XN"
      },
      "execution_count": null,
      "outputs": []
    },
    {
      "cell_type": "code",
      "execution_count": null,
      "metadata": {
        "id": "tA3SOrrcy7EZ"
      },
      "outputs": [],
      "source": [
        "#df = df.reset_index(drop=True)"
      ]
    },
    {
      "cell_type": "code",
      "execution_count": null,
      "metadata": {
        "id": "NIhTF0CKyoQp"
      },
      "outputs": [],
      "source": [
        "#from matplotlib import pyplot as plt"
      ]
    },
    {
      "cell_type": "code",
      "execution_count": null,
      "metadata": {
        "id": "vzrtbMzQ1IXx"
      },
      "outputs": [],
      "source": [
        "#import seaborn as sns "
      ]
    },
    {
      "cell_type": "code",
      "execution_count": null,
      "metadata": {
        "colab": {
          "base_uri": "https://localhost:8080/",
          "height": 72
        },
        "id": "cCEG1Efc0wFg",
        "outputId": "12135592-edfa-481c-c12c-33b0f2daa9a5"
      },
      "outputs": [
        {
          "output_type": "execute_result",
          "data": {
            "text/plain": [
              "'plt.figure(figsize=(10,6))\\nsns.barplot(x=df[\\'Nom demandeur\\'], y=df[\\'New_Duree_acte\\'], palette=\"Reds_r\")\\nplt.xlabel(\\'\\nNom demandeur\\', fontsize=15, color=\\'#c0392b\\')\\nplt.ylabel(\"Nombre de jour\\n\", fontsize=15, color=\\'#c0392b\\')\\nplt.title(\"Nombre de jour entre l\\'acte 101 et l\\'acte A04 par personne\\n\", fontsize=18, color=\\'#e74c3c\\')\\nplt.xticks(rotation= 45)\\nplt.tight_layout()'"
            ],
            "application/vnd.google.colaboratory.intrinsic+json": {
              "type": "string"
            }
          },
          "metadata": {},
          "execution_count": 226
        }
      ],
      "source": [
        "'''plt.figure(figsize=(10,6))\n",
        "sns.barplot(x=df['Nom demandeur'], y=df['New_Duree_acte'], palette=\"Reds_r\")\n",
        "plt.xlabel('\\nNom demandeur', fontsize=15, color='#c0392b')\n",
        "plt.ylabel(\"Nombre de jour\\n\", fontsize=15, color='#c0392b')\n",
        "plt.title(\"Nombre de jour entre l'acte 101 et l'acte A04 par personne\\n\", fontsize=18, color='#e74c3c')\n",
        "plt.xticks(rotation= 45)\n",
        "plt.tight_layout()'''"
      ]
    },
    {
      "cell_type": "code",
      "execution_count": null,
      "metadata": {
        "colab": {
          "base_uri": "https://localhost:8080/",
          "height": 36
        },
        "id": "J3-qx_Ngv9US",
        "outputId": "a47d6cc6-a4ab-45b3-88c1-7aae8ebeda71"
      },
      "outputs": [
        {
          "output_type": "execute_result",
          "data": {
            "text/plain": [
              "\"import plotly.express as px\\n\\nfig = px.pie(df9, values='New_Duree_acte', names='Nom demandeur')\\nfig.show()\""
            ],
            "application/vnd.google.colaboratory.intrinsic+json": {
              "type": "string"
            }
          },
          "metadata": {},
          "execution_count": 230
        }
      ],
      "source": [
        "'''import plotly.express as px\n",
        "\n",
        "fig = px.pie(df9, values='New_Duree_acte', names='Nom demandeur')\n",
        "fig.show()'''"
      ]
    },
    {
      "cell_type": "code",
      "source": [
        ""
      ],
      "metadata": {
        "id": "pNPkMk9o4Xog"
      },
      "execution_count": null,
      "outputs": []
    }
  ],
  "metadata": {
    "colab": {
      "name": "Demande_traitement_de_données.ipynb",
      "provenance": []
    },
    "kernelspec": {
      "display_name": "Python 3",
      "name": "python3"
    },
    "language_info": {
      "name": "python"
    }
  },
  "nbformat": 4,
  "nbformat_minor": 0
}